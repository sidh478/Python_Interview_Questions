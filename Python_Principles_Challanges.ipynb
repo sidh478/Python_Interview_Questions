{
 "cells": [
  {
   "cell_type": "markdown",
   "id": "2de8f444",
   "metadata": {},
   "source": [
    "# Capital indexes\n",
    "\n",
    "Write a function named capital_indexes. The function takes a single parameter, which is a string. Your function should return a list of all the indexes in the string that have capital letters.\n",
    "\n",
    "For example, calling capital_indexes(\"HeLlO\") should return the list [0, 2, 4].\n",
    "\n",
    "\n"
   ]
  },
  {
   "cell_type": "code",
   "execution_count": 1,
   "id": "ee8b6437",
   "metadata": {},
   "outputs": [],
   "source": [
    "index=[]\n",
    "def capital_indexes(string):\n",
    "    index=[]\n",
    "    for i in range(len(string)):\n",
    "        if string[i].isupper():\n",
    "            index.append(i)\n",
    "            \n",
    "    return index"
   ]
  },
  {
   "cell_type": "code",
   "execution_count": 2,
   "id": "5a90aabe",
   "metadata": {},
   "outputs": [],
   "source": [
    "#or\n",
    "\n",
    "from string import ascii_uppercase\n",
    "\n",
    "def capital_indexes(s):\n",
    "    return [i for i in range(len(s)) if s[i] in ascii_uppercase]\n"
   ]
  },
  {
   "cell_type": "code",
   "execution_count": 3,
   "id": "5358581c",
   "metadata": {},
   "outputs": [
    {
     "data": {
      "text/plain": [
       "[0, 2, 3, 4]"
      ]
     },
     "execution_count": 3,
     "metadata": {},
     "output_type": "execute_result"
    }
   ],
   "source": [
    "capital_indexes(\"HeLLO\")"
   ]
  },
  {
   "cell_type": "markdown",
   "id": "fea96bd7",
   "metadata": {},
   "source": [
    "# Middle letter\n",
    "Write a function named mid that takes a string as its parameter. Your function should extract and return the middle letter. If there is no middle letter, your function should return the empty string.\n",
    "\n",
    "For example, mid(\"abc\") should return \"b\" and mid(\"aaaa\") should return \"\"\n"
   ]
  },
  {
   "cell_type": "code",
   "execution_count": 4,
   "id": "3d34ee32",
   "metadata": {},
   "outputs": [],
   "source": [
    "def mid(string):\n",
    "    length =len(string)\n",
    "    if length % 2 ==0:\n",
    "        return \"\"\n",
    "    else:\n",
    "        middle_index=length//2\n",
    "        return string[middle_index]"
   ]
  },
  {
   "cell_type": "code",
   "execution_count": 5,
   "id": "f9611052",
   "metadata": {},
   "outputs": [],
   "source": [
    "#or\n",
    "\n",
    "def mid(string):\n",
    "    if len(string) % 2 == 0:\n",
    "        return \"\"\n",
    "    return string[len(string)//2]"
   ]
  },
  {
   "cell_type": "code",
   "execution_count": 6,
   "id": "d57afb94",
   "metadata": {},
   "outputs": [
    {
     "data": {
      "text/plain": [
       "'b'"
      ]
     },
     "execution_count": 6,
     "metadata": {},
     "output_type": "execute_result"
    }
   ],
   "source": [
    "mid(\"abc\")"
   ]
  },
  {
   "cell_type": "code",
   "execution_count": 7,
   "id": "f6580c5a",
   "metadata": {},
   "outputs": [
    {
     "data": {
      "text/plain": [
       "''"
      ]
     },
     "execution_count": 7,
     "metadata": {},
     "output_type": "execute_result"
    }
   ],
   "source": [
    "mid(\"aaaa\")"
   ]
  },
  {
   "cell_type": "markdown",
   "id": "5034e51b",
   "metadata": {},
   "source": [
    "# Online status\n",
    "\n",
    "The aim of this challenge is, given a dictionary of people's online status, to count the number of people who are online.\n",
    "\n",
    "For example, consider the following dictionary:\n",
    "\n",
    "statuses = {\n",
    "    \"Alice\": \"online\",\n",
    "    \"Bob\": \"offline\",\n",
    "    \"Eve\": \"online\",\n",
    "}\n",
    "In this case, the number of people online is 2.\n",
    "\n",
    "Write a function named online_count that takes one parameter. The parameter is a dictionary that maps from strings of names to the string \"online\" or \"offline\", as seen above.\n",
    "\n",
    "Your function should return the number of people who are online."
   ]
  },
  {
   "cell_type": "code",
   "execution_count": 8,
   "id": "44ced991",
   "metadata": {},
   "outputs": [],
   "source": [
    "def online_count(statuses):\n",
    "    count=0\n",
    "    for val in statuses.values():\n",
    "        if val==\"online\":\n",
    "            count +=1\n",
    "    return count"
   ]
  },
  {
   "cell_type": "code",
   "execution_count": 9,
   "id": "3e7d1f6d",
   "metadata": {},
   "outputs": [],
   "source": [
    "#or \n",
    "\n",
    "def online_count(statuses):\n",
    "    count=0\n",
    "    for name,status in statuses.items():\n",
    "        if status == \"online\":\n",
    "            count +=1\n",
    "    return count"
   ]
  },
  {
   "cell_type": "code",
   "execution_count": 10,
   "id": "4e9a445e",
   "metadata": {},
   "outputs": [
    {
     "data": {
      "text/plain": [
       "2"
      ]
     },
     "execution_count": 10,
     "metadata": {},
     "output_type": "execute_result"
    }
   ],
   "source": [
    "statuses = {\n",
    "    \"Alice\": \"online\",\n",
    "    \"Bob\": \"offline\",\n",
    "    \"Eve\": \"online\",\n",
    "}\n",
    "\n",
    "online_count(statuses)"
   ]
  },
  {
   "cell_type": "markdown",
   "id": "1aaf38a7",
   "metadata": {},
   "source": [
    "# Randomness\n",
    "Define a function, random_number, that takes no parameters. The function must generate a random integer between 1 and 100, both inclusive, and return it.\n",
    "\n",
    "Calling the function multiple times should (usually) return different numbers.\n",
    "\n",
    "For example, calling random_number() some times might first return 42, then 63, then 1."
   ]
  },
  {
   "cell_type": "code",
   "execution_count": 11,
   "id": "8f97dced",
   "metadata": {},
   "outputs": [],
   "source": [
    "import random\n",
    "def random_number():\n",
    "    return random.randint(1,100)\n"
   ]
  },
  {
   "cell_type": "code",
   "execution_count": 12,
   "id": "82737f6c",
   "metadata": {},
   "outputs": [
    {
     "name": "stdout",
     "output_type": "stream",
     "text": [
      "61\n",
      "10\n",
      "51\n"
     ]
    }
   ],
   "source": [
    "print(random_number())\n",
    "print(random_number())\n",
    "print(random_number())"
   ]
  },
  {
   "cell_type": "markdown",
   "id": "b462b525",
   "metadata": {},
   "source": [
    "# Type check\n",
    "\n",
    "Write a function named only_ints that takes two parameters. Your function should return True if both parameters are integers, and False otherwise.\n",
    "\n",
    "For example, calling only_ints(1, 2) should return True, while calling only_ints(\"a\", 1) should return False."
   ]
  },
  {
   "cell_type": "code",
   "execution_count": 13,
   "id": "0ce314bc",
   "metadata": {},
   "outputs": [],
   "source": [
    "def only_ints(n,m):\n",
    "    if type(n)==int and type(m)==int:\n",
    "        return True\n",
    "    else:\n",
    "        return False"
   ]
  },
  {
   "cell_type": "code",
   "execution_count": 14,
   "id": "d123515f",
   "metadata": {},
   "outputs": [],
   "source": [
    "#or\n",
    "\n",
    "def only_ints(n, m):\n",
    "    if isinstance(n, int) and isinstance(m, int):\n",
    "        return True\n",
    "    else:\n",
    "        return False\n"
   ]
  },
  {
   "cell_type": "code",
   "execution_count": 15,
   "id": "7fe01150",
   "metadata": {},
   "outputs": [
    {
     "name": "stdout",
     "output_type": "stream",
     "text": [
      "True\n",
      "False\n"
     ]
    }
   ],
   "source": [
    "print(only_ints(1,2))\n",
    "print(only_ints('a',2))"
   ]
  },
  {
   "cell_type": "markdown",
   "id": "254cb813",
   "metadata": {},
   "source": [
    "# Double letters\n",
    "\n",
    "The goal of this challenge is to analyze a string to check if it contains two of the same letter in a row. For example, the string \"hello\" has l twice in a row, while the string \"nono\" does not have two identical letters in a row.\n",
    "\n",
    "Define a function named double_letters that takes a single parameter. The parameter is a string. Your function must return True if there are two identical letters in a row in the string, and False otherwise."
   ]
  },
  {
   "cell_type": "code",
   "execution_count": 16,
   "id": "5a471591",
   "metadata": {},
   "outputs": [],
   "source": [
    "def double_letters(string):\n",
    "    for i in range(len(string)-1):\n",
    "        if string[i] == string[i + 1]:\n",
    "            return True\n",
    "    return False "
   ]
  },
  {
   "cell_type": "code",
   "execution_count": 17,
   "id": "513c1d9b",
   "metadata": {},
   "outputs": [
    {
     "name": "stdout",
     "output_type": "stream",
     "text": [
      "True\n",
      "False\n"
     ]
    }
   ],
   "source": [
    "print(double_letters('sttring'))\n",
    "print(double_letters('string'))"
   ]
  },
  {
   "cell_type": "code",
   "execution_count": 18,
   "id": "3b09c76f",
   "metadata": {},
   "outputs": [],
   "source": [
    "def add_dots(string):\n",
    "    return '.'.join(string)\n",
    "\n",
    "def remove_dots(string):\n",
    "    return string.replace('.','')\n"
   ]
  },
  {
   "cell_type": "code",
   "execution_count": 19,
   "id": "fef13596",
   "metadata": {},
   "outputs": [
    {
     "data": {
      "text/plain": [
       "'string'"
      ]
     },
     "execution_count": 19,
     "metadata": {},
     "output_type": "execute_result"
    }
   ],
   "source": [
    "remove_dots(add_dots('string'))"
   ]
  },
  {
   "cell_type": "markdown",
   "id": "e7657e38",
   "metadata": {},
   "source": [
    "# Counting syllables\n",
    "Define a function named count that takes a single parameter. The parameter is a string. The string will contain a single word divided into syllables by hyphens, such as these:\n",
    "\n",
    "\"ho-tel\"\n",
    "\"cat\"\n",
    "\"met-a-phor\"\n",
    "\"ter-min-a-tor\"\n",
    "Your function should count the number of syllables and return it.\n",
    "\n",
    "For example, the call count(\"ho-tel\") should return 2."
   ]
  },
  {
   "cell_type": "code",
   "execution_count": 20,
   "id": "df873e5d",
   "metadata": {},
   "outputs": [],
   "source": [
    "def count(word):\n",
    "    syllables=word.split('-')\n",
    "    return len(syllables)"
   ]
  },
  {
   "cell_type": "code",
   "execution_count": 21,
   "id": "f3e18a07",
   "metadata": {},
   "outputs": [
    {
     "data": {
      "text/plain": [
       "3"
      ]
     },
     "execution_count": 21,
     "metadata": {},
     "output_type": "execute_result"
    }
   ],
   "source": [
    "count('khd-nk-jn')"
   ]
  },
  {
   "cell_type": "markdown",
   "id": "58c143bf",
   "metadata": {},
   "source": [
    "# Anagrams\n",
    "\n",
    "Two strings are anagrams if you can make one from the other by rearranging the letters.\n",
    "\n",
    "Write a function named is_anagram that takes two strings as its parameters. Your function should return True if the strings are anagrams, and False otherwise.\n",
    "\n",
    "For example, the call is_anagram(\"typhoon\", \"opython\") should return True while the call is_anagram(\"Alice\", \"Bob\") should return False."
   ]
  },
  {
   "cell_type": "code",
   "execution_count": 22,
   "id": "64de3dce",
   "metadata": {},
   "outputs": [],
   "source": [
    "def is_anagram(str1,str2):\n",
    "    return sorted(str1)==sorted(str2)"
   ]
  },
  {
   "cell_type": "code",
   "execution_count": 23,
   "id": "98aecfa1",
   "metadata": {},
   "outputs": [
    {
     "data": {
      "text/plain": [
       "True"
      ]
     },
     "execution_count": 23,
     "metadata": {},
     "output_type": "execute_result"
    }
   ],
   "source": [
    "is_anagram(\"hssj\",\"shjs\")"
   ]
  },
  {
   "cell_type": "markdown",
   "id": "8f893271",
   "metadata": {},
   "source": [
    "# Flatten a list\n",
    "\n",
    "Write a function that takes a list of lists and flattens it into a one-dimensional list.\n",
    "\n",
    "Name your function flatten. It should take a single parameter and return a list.\n",
    "\n",
    "For example, calling:\n",
    "\n",
    "flatten([[1, 2], [3, 4]])\n",
    "Should return the list:\n",
    "\n",
    "[1, 2, 3, 4]"
   ]
  },
  {
   "cell_type": "code",
   "execution_count": 24,
   "id": "fe0c2846",
   "metadata": {},
   "outputs": [],
   "source": [
    "def flatten(list):\n",
    "    flattened=[]\n",
    "    for i in list:\n",
    "        flattened.extend(i)\n",
    "    return flattened "
   ]
  },
  {
   "cell_type": "code",
   "execution_count": 25,
   "id": "6434038c",
   "metadata": {},
   "outputs": [
    {
     "data": {
      "text/plain": [
       "[1, 2, 3, 4]"
      ]
     },
     "execution_count": 25,
     "metadata": {},
     "output_type": "execute_result"
    }
   ],
   "source": [
    "flatten([[1, 2], [3, 4]])"
   ]
  },
  {
   "cell_type": "markdown",
   "id": "a32973bf",
   "metadata": {},
   "source": [
    "# Min-maxing\n",
    "Define a function named largest_difference that takes a list of numbers as its only parameter.\n",
    "\n",
    "Your function should compute and return the difference between the largest and smallest number in the list.\n",
    "\n",
    "For example, the call largest_difference([1, 2, 3]) should return 2 because 3 - 1 is 2.\n",
    "\n",
    "You may assume that no numbers are smaller or larger than -100 and 100\n"
   ]
  },
  {
   "cell_type": "code",
   "execution_count": 26,
   "id": "a56f964b",
   "metadata": {},
   "outputs": [],
   "source": [
    "def largest_difference(lst):\n",
    "    lst.sort()\n",
    "    diff = lst[-1] - lst[0]\n",
    "    return diff\n"
   ]
  },
  {
   "cell_type": "code",
   "execution_count": 27,
   "id": "f25744a6",
   "metadata": {},
   "outputs": [],
   "source": [
    "#or \n",
    "\n",
    "def largest_difference(lst):\n",
    "    sorted_lst = sorted(lst)\n",
    "    diff = sorted_lst[-1] - sorted_lst[0]\n",
    "    return diff\n"
   ]
  },
  {
   "cell_type": "code",
   "execution_count": 28,
   "id": "bacd5270",
   "metadata": {},
   "outputs": [],
   "source": [
    "#or\n",
    "\n",
    "def largest_difference(list):\n",
    "    return max(list)-min(list)\n",
    "\n"
   ]
  },
  {
   "cell_type": "code",
   "execution_count": 29,
   "id": "1f706ed8",
   "metadata": {},
   "outputs": [
    {
     "data": {
      "text/plain": [
       "4"
      ]
     },
     "execution_count": 29,
     "metadata": {},
     "output_type": "execute_result"
    }
   ],
   "source": [
    "largest_difference([1,2,3,4,5])"
   ]
  },
  {
   "cell_type": "markdown",
   "id": "877d192d",
   "metadata": {},
   "source": [
    "# Divisible by 3\n",
    "\n",
    "Define a function named div_3 that returns True if its single integer parameter is divisible by 3 and False otherwise.\n",
    "\n",
    "For example, div_3(6) is True because 6/3 does not leave any remainder. However div_3(5) is False because 5/3 leaves 2 as a remainder."
   ]
  },
  {
   "cell_type": "code",
   "execution_count": 30,
   "id": "466a644d",
   "metadata": {},
   "outputs": [],
   "source": [
    "def div_3(n):\n",
    "    return n % 3 == 0"
   ]
  },
  {
   "cell_type": "code",
   "execution_count": 31,
   "id": "2adc0bd4",
   "metadata": {},
   "outputs": [
    {
     "data": {
      "text/plain": [
       "True"
      ]
     },
     "execution_count": 31,
     "metadata": {},
     "output_type": "execute_result"
    }
   ],
   "source": [
    "div_3(9)"
   ]
  },
  {
   "cell_type": "markdown",
   "id": "9bbeb129",
   "metadata": {},
   "source": [
    "Tic tac toe input\n",
    "Here's the backstory for this challenge: imagine you're writing a tic-tac-toe game, where the board looks like this:\n",
    "\n",
    "1:  X | O | X\n",
    "   -----------\n",
    "2:    |   |  \n",
    "   -----------\n",
    "3:  O |   |\n",
    "\n",
    "    A   B  C\n",
    "The board is represented as a 2D list:\n",
    "\n",
    "board = [\n",
    "\n",
    "    [\"X\", \"O\", \"X\"],\n",
    "    \n",
    "    [\" \", \" \", \" \"],\n",
    "    \n",
    "    [\"O\", \" \", \" \"],\n",
    "]\n",
    "\n",
    "Imagine if your user enters \"C1\" and you need to see if there's an X or O in that cell on the board. To do so, you need to translate from the string \"C1\" to row 0 and column 2 so that you can check board[row][column].\n",
    "\n",
    "Your task is to write a function that can translate from strings of length 2 to a tuple (row, column). Name your function get_row_col; it should take a single parameter which is a string of length 2 consisting of an uppercase letter and a digit.\n",
    "\n",
    "For example, calling get_row_col(\"A3\") should return the tuple (2, 0) because A3 corresponds to the row at index 2 and column at index 0in the board."
   ]
  },
  {
   "cell_type": "code",
   "execution_count": 32,
   "id": "350cfc75",
   "metadata": {},
   "outputs": [],
   "source": [
    "def get_row_col(position):\n",
    "    column_letter = position[0]\n",
    "    row_number = int(position[1])-1\n",
    "    \n",
    "    column_mapping = {\"A\":0,\"B\":1,\"C\":2}\n",
    "    column = column_mapping[column_letter]\n",
    "    \n",
    "    return row_number,column"
   ]
  },
  {
   "cell_type": "code",
   "execution_count": 33,
   "id": "466e3ddb",
   "metadata": {},
   "outputs": [],
   "source": [
    "#or\n",
    "\n",
    "def get_row_col(choice):\n",
    "    translate = {\"A\": 0, \"B\": 1, \"C\": 2}\n",
    "    letter = choice[0]\n",
    "    number = choice[1]\n",
    "    row = int(number) - 1\n",
    "    column = translate[letter]\n",
    "    return (row, column)"
   ]
  },
  {
   "cell_type": "code",
   "execution_count": 34,
   "id": "d7368cc9",
   "metadata": {},
   "outputs": [
    {
     "data": {
      "text/plain": [
       "(2, 0)"
      ]
     },
     "execution_count": 34,
     "metadata": {},
     "output_type": "execute_result"
    }
   ],
   "source": [
    "board = [\n",
    "    [\"X\", \"O\", \"X\"],\n",
    "    [\" \", \" \", \" \"],\n",
    "    [\"O\", \" \", \" \"],\n",
    "]\n",
    "\n",
    "position = \"A3\"\n",
    "get_row_col(position)"
   ]
  },
  {
   "cell_type": "markdown",
   "id": "711a62a8",
   "metadata": {},
   "source": [
    "# Palindrome\n",
    "A string is a palindrome when it is the same when read backwards.\n",
    "\n",
    "For example, the string \"bob\" is a palindrome. So is \"abba\". But the string \"abcd\" is not a palindrome, because \"abcd\" != \"dcba\".\n",
    "\n",
    "Write a function named palindrome that takes a single string as its parameter. Your function should return True if the string is a palindrome, and False otherwise."
   ]
  },
  {
   "cell_type": "code",
   "execution_count": 35,
   "id": "08520016",
   "metadata": {},
   "outputs": [],
   "source": [
    "def palindrome(string):\n",
    "    return string==string[::-1]"
   ]
  },
  {
   "cell_type": "code",
   "execution_count": 36,
   "id": "f34f1126",
   "metadata": {},
   "outputs": [],
   "source": [
    "#or\n",
    "\n",
    "def palindrome(string):\n",
    "    if len(string) < 2:\n",
    "        return True\n",
    "    return string[0] == string[-1] and palindrome(string[1:-1])"
   ]
  },
  {
   "cell_type": "code",
   "execution_count": 37,
   "id": "56cf34ba",
   "metadata": {},
   "outputs": [],
   "source": [
    "#or\n",
    "\n",
    "def palindrome(string):\n",
    "    while len(string) > 1:\n",
    "        head = string[0]\n",
    "        tail = string[-1]\n",
    "        string = string[1:-1]\n",
    "        if head != tail:\n",
    "            return False\n",
    "    return True"
   ]
  },
  {
   "cell_type": "code",
   "execution_count": 38,
   "id": "c582251f",
   "metadata": {},
   "outputs": [
    {
     "name": "stdout",
     "output_type": "stream",
     "text": [
      "False\n",
      "True\n"
     ]
    }
   ],
   "source": [
    "print(palindrome(\"bjgb\"))\n",
    "print(palindrome(\"bob\"))"
   ]
  },
  {
   "cell_type": "markdown",
   "id": "5b269f1f",
   "metadata": {},
   "source": [
    "# Up and down\n",
    "Define a function named up_down that takes a single number as its parameter. Your function return a tuple containing two numbers; the first should be one lower than the parameter, and the second should be one higher.\n",
    "\n",
    "For example, calling up_down(5) should return (4, 6)."
   ]
  },
  {
   "cell_type": "code",
   "execution_count": 39,
   "id": "fb011812",
   "metadata": {},
   "outputs": [],
   "source": [
    "def up_down(n):\n",
    "    return n-1,n+1"
   ]
  },
  {
   "cell_type": "code",
   "execution_count": 40,
   "id": "e60973dc",
   "metadata": {},
   "outputs": [
    {
     "data": {
      "text/plain": [
       "(4, 6)"
      ]
     },
     "execution_count": 40,
     "metadata": {},
     "output_type": "execute_result"
    }
   ],
   "source": [
    "up_down(5)"
   ]
  },
  {
   "cell_type": "markdown",
   "id": "f66c48d5",
   "metadata": {},
   "source": [
    "# Consecutive zeros\n",
    "The goal of this challenge is to analyze a binary string consisting of only zeros and ones. Your code should find the biggest number of consecutive zeros in the string. For example, given the string:\n",
    "\n",
    "\"1001101000110\"\n",
    "The biggest number of consecutive zeros is 3.\n",
    "\n",
    "Define a function named consecutive_zeros that takes a single parameter, which is the string of zeros and ones. Your function should return the number described above.\n"
   ]
  },
  {
   "cell_type": "code",
   "execution_count": 41,
   "id": "6b879be6",
   "metadata": {},
   "outputs": [],
   "source": [
    "def consecutive_zeros(string):\n",
    "    return max(len(seq) for seq in string.split('1'))"
   ]
  },
  {
   "cell_type": "code",
   "execution_count": 42,
   "id": "0f65a939",
   "metadata": {},
   "outputs": [],
   "source": [
    "#or\n",
    "\n",
    "def consecutive_zeros(bin_str):\n",
    "    return max([len(s) for s in bin_str.split(\"1\")])"
   ]
  },
  {
   "cell_type": "code",
   "execution_count": 43,
   "id": "fffd5163",
   "metadata": {},
   "outputs": [],
   "source": [
    "#or\n",
    "\n",
    "def consecutive_zeros(string):\n",
    "    max_zeros = 0\n",
    "    current_zeros = 0\n",
    "\n",
    "    for char in string:\n",
    "        if char == '0':\n",
    "            current_zeros += 1\n",
    "            max_zeros = max(max_zeros, current_zeros)\n",
    "        else:\n",
    "            current_zeros = 0\n",
    "\n",
    "    return max_zeros\n"
   ]
  },
  {
   "cell_type": "code",
   "execution_count": 44,
   "id": "4366976e",
   "metadata": {},
   "outputs": [
    {
     "data": {
      "text/plain": [
       "4"
      ]
     },
     "execution_count": 44,
     "metadata": {},
     "output_type": "execute_result"
    }
   ],
   "source": [
    "consecutive_zeros(\"100001001010101100100010\")"
   ]
  },
  {
   "cell_type": "markdown",
   "id": "f53f51c4",
   "metadata": {},
   "source": [
    "# All equal\n",
    "Define a function named all_equal that takes a list and checks whether all elements in the list are the same.\n",
    "\n",
    "For example, calling all_equal([1, 1, 1]) should return True."
   ]
  },
  {
   "cell_type": "code",
   "execution_count": 45,
   "id": "e363da04",
   "metadata": {},
   "outputs": [],
   "source": [
    "def all_equal(list):\n",
    "    return all(element == list[0] for element in list)"
   ]
  },
  {
   "cell_type": "code",
   "execution_count": 46,
   "id": "b3a1d22c",
   "metadata": {},
   "outputs": [],
   "source": [
    "#or\n",
    "\n",
    "def all_equal(items):\n",
    "    for item1 in items:\n",
    "        for item2 in items:\n",
    "            if item1 != item2:\n",
    "                return False\n",
    "    return True"
   ]
  },
  {
   "cell_type": "code",
   "execution_count": 47,
   "id": "d5318944",
   "metadata": {},
   "outputs": [
    {
     "name": "stdout",
     "output_type": "stream",
     "text": [
      "False\n",
      "True\n"
     ]
    }
   ],
   "source": [
    "print(all_equal([1,2,1]))\n",
    "print(all_equal([1,1,1]))"
   ]
  },
  {
   "cell_type": "markdown",
   "id": "97cbedce",
   "metadata": {},
   "source": [
    "# Boolean and\n",
    "Define a function named triple_and that takes three parameters and returns True only if they are all True and False otherwise."
   ]
  },
  {
   "cell_type": "code",
   "execution_count": 48,
   "id": "bf42a2cd",
   "metadata": {},
   "outputs": [],
   "source": [
    "def triple_and(a,b,c):\n",
    "    return a and b and c"
   ]
  },
  {
   "cell_type": "code",
   "execution_count": 49,
   "id": "b1a5da70",
   "metadata": {},
   "outputs": [
    {
     "name": "stdout",
     "output_type": "stream",
     "text": [
      "True\n",
      "False\n",
      "False\n",
      "False\n"
     ]
    }
   ],
   "source": [
    "print(triple_and(True, True, True))    \n",
    "print(triple_and(True, True, False))  \n",
    "print(triple_and(True, False, True))  \n",
    "print(triple_and(False, False, False)) "
   ]
  },
  {
   "cell_type": "markdown",
   "id": "05403171",
   "metadata": {},
   "source": [
    "# Writing short code\n",
    "Define a function named convert that takes a list of numbers as its only parameter and returns a list of each number converted to a string.\n",
    "\n",
    "For example, the call convert([1, 2, 3]) should return [\"1\", \"2\", \"3\"].\n",
    "\n",
    "What makes this tricky is that your function body must only contain a single line of code"
   ]
  },
  {
   "cell_type": "code",
   "execution_count": 50,
   "id": "9995d1ae",
   "metadata": {},
   "outputs": [],
   "source": [
    "def convert(number):\n",
    "    return list(map(str,number))"
   ]
  },
  {
   "cell_type": "code",
   "execution_count": 51,
   "id": "42978743",
   "metadata": {},
   "outputs": [],
   "source": [
    "#or\n",
    "\n",
    "def convert(num):\n",
    "    return [str(n) for n in num]"
   ]
  },
  {
   "cell_type": "code",
   "execution_count": 52,
   "id": "9197e9fb",
   "metadata": {},
   "outputs": [
    {
     "data": {
      "text/plain": [
       "['1', '2', '3', '4']"
      ]
     },
     "execution_count": 52,
     "metadata": {},
     "output_type": "execute_result"
    }
   ],
   "source": [
    "convert([1,2,3,4])"
   ]
  },
  {
   "cell_type": "markdown",
   "id": "98ec3b08",
   "metadata": {},
   "source": [
    "#Custom zip\n",
    "The built-in zip function \"zips\" two lists. Write your own implementation of this function.\n",
    "\n",
    "Define a function named zap. The function takes two parameters, a and b. These are lists.\n",
    "\n",
    "Your function should return a list of tuples. Each tuple should contain one item from the a list and one from b.\n",
    "\n",
    "You may assume a and b have equal lengths.\n",
    "\n",
    "If you don't get it, think of a zipper.\n",
    "\n",
    "For example:\n",
    "\n",
    "zap(\n",
    "    \n",
    "    [0, 1, 2, 3],\n",
    "    \n",
    "    [5, 6, 7, 8]\n",
    ")\n",
    "\n",
    "Should return:\n",
    "\n",
    "[(0, 5),\n",
    "\n",
    " (1, 6),\n",
    " \n",
    " (2, 7),\n",
    " \n",
    " (3, 8)]"
   ]
  },
  {
   "cell_type": "code",
   "execution_count": 53,
   "id": "a30b66c6",
   "metadata": {},
   "outputs": [],
   "source": [
    "def zap(a,b):\n",
    "    return [(a[i],b[i]) for i in range(len(a))]"
   ]
  },
  {
   "cell_type": "code",
   "execution_count": 54,
   "id": "a2f60bd0",
   "metadata": {},
   "outputs": [],
   "source": [
    "#or\n",
    "\n",
    "def zap(a, b):\n",
    "    result = []\n",
    "    for i in range(len(a)):\n",
    "        item_from_a = a[i]\n",
    "        item_from_b = b[i]\n",
    "        tup = (item_from_a, item_from_b)\n",
    "        result.append(tup)\n",
    "    return result"
   ]
  },
  {
   "cell_type": "markdown",
   "id": "1fed6cf3",
   "metadata": {},
   "source": [
    "# Solution validation\n",
    "The aim of this challenge is to write code that can analyze code submissions. We'll simplify things a lot to not make this too hard.\n",
    "\n",
    "Write a function named validate that takes code represented as a string as its only parameter.\n",
    "\n",
    "Your function should check a few things:\n",
    "\n",
    "the code must contain the def keyword\n",
    "\n",
    "otherwise return \"missing def\"\n",
    "\n",
    "the code must contain the : symbol\n",
    "\n",
    "otherwise return \"missing :\"\n",
    "\n",
    "the code must contain ( and ) for the parameter list\n",
    "\n",
    "otherwise return \"missing paren\"\n",
    "\n",
    "the code must not contain ()\n",
    "\n",
    "otherwise return \"missing param\"\n",
    "\n",
    "the code must contain four spaces for indentation\n",
    "\n",
    "otherwise return \"missing indent\"\n",
    "\n",
    "the code must contain validate\n",
    "\n",
    "otherwise return \"wrong name\"\n",
    "\n",
    "the code must contain a return statement\n",
    "\n",
    "otherwise return \"missing return\"\n",
    "\n",
    "If all these conditions are satisfied, your code should return True.\n",
    "\n",
    "Here comes the twist: your solution must return True when validating itself."
   ]
  },
  {
   "cell_type": "code",
   "execution_count": 55,
   "id": "ee9a7764",
   "metadata": {},
   "outputs": [],
   "source": [
    "import re\n",
    "def validate(code):\n",
    "    if \"def\" not in code:\n",
    "        return \"missing def\"\n",
    "    elif \":\" not in code:\n",
    "        return \"missing :\"\n",
    "    elif \"(\" not in code or \")\" not in code:\n",
    "        return \"missing paren\"\n",
    "    elif re.search(r\"\\(s*\\)\",code):\n",
    "        return \"missing param\"\n",
    "    elif \"    \" not in code:\n",
    "        return \"missing indent\"\n",
    "    elif \"validate\" not in code:\n",
    "        return \"wrong name\"\n",
    "    elif \"return\" not in code:\n",
    "        return \"missing return\"\n",
    "    else:\n",
    "        return True"
   ]
  },
  {
   "cell_type": "code",
   "execution_count": 56,
   "id": "cfc10ff4",
   "metadata": {},
   "outputs": [],
   "source": [
    "#or\n",
    "\n",
    "def validate(code):\n",
    "    if \"def\" not in code:\n",
    "        return \"missing def\"\n",
    "    if \":\" not in code:\n",
    "        return \"missing :\"\n",
    "    if \"(\" not in code or \")\" not in code:\n",
    "        return \"missing paren\"\n",
    "    if \"(\" + \")\" in code:  # only this line is changed\n",
    "        return \"missing param\"\n",
    "    if \"    \" not in code:\n",
    "        return \"missing indent\"\n",
    "    if \"validate\" not in code:\n",
    "        return \"wrong name\"\n",
    "    if \"return\" not in code:\n",
    "        return \"missing return\"\n",
    "    return True"
   ]
  },
  {
   "cell_type": "code",
   "execution_count": 57,
   "id": "c73b2054",
   "metadata": {},
   "outputs": [
    {
     "name": "stdout",
     "output_type": "stream",
     "text": [
      "True\n"
     ]
    }
   ],
   "source": [
    "code = '''def validate(code):\n",
    "    if \"def\" not in code:\n",
    "        return \"missing def\"\n",
    "    elif \":\" not in code:\n",
    "        return \"missing :\"\n",
    "    elif \"(\" not in code or \")\" not in code:\n",
    "        return \"missing paren\"\n",
    "    elif re.search(r\"\\(\\s*\\)\", code):\n",
    "        return \"missing param\"\n",
    "    elif \"    \" not in code:\n",
    "        return \"missing indent\"\n",
    "    elif \"validate\" not in code:\n",
    "        return \"wrong name\"\n",
    "    elif \"return\" not in code:\n",
    "        return \"missing return\"\n",
    "    else:\n",
    "        return True'''\n",
    "\n",
    "print(validate(code))"
   ]
  },
  {
   "cell_type": "markdown",
   "id": "c136bb13",
   "metadata": {},
   "source": [
    "# List xor\n",
    "\n",
    "Define a function named list_xor. Your function should take three parameters: n, list1 and list2.\n",
    "\n",
    "Your function must return whether n is exclusively in list1 or list2.\n",
    "\n",
    "In other words, if n is in both lists or in none of the lists, return False. If n is in only one of the lists, return True.\n",
    "\n",
    "For example:\n",
    "\n",
    "list_xor(1, [1, 2, 3], [4, 5, 6]) == True\n",
    "\n",
    "list_xor(1, [0, 2, 3], [1, 5, 6]) == True\n",
    "\n",
    "list_xor(1, [1, 2, 3], [1, 5, 6]) == False\n",
    "\n",
    "list_xor(1, [0, 0, 0], [4, 5, 6]) == False"
   ]
  },
  {
   "cell_type": "code",
   "execution_count": 58,
   "id": "d20b82c0",
   "metadata": {},
   "outputs": [],
   "source": [
    "def list_xor(n, list1, list2):\n",
    "    if (n in list1 and n not in list2) or (n in list2 and n not in list1):\n",
    "        return True\n",
    "    else:\n",
    "        return False\n"
   ]
  },
  {
   "cell_type": "code",
   "execution_count": 59,
   "id": "cbe50f20",
   "metadata": {},
   "outputs": [],
   "source": [
    "#or\n",
    "\n",
    "def list_xor(n, list1, list2):\n",
    "    return (n in list1) ^ (n in list2)"
   ]
  },
  {
   "cell_type": "code",
   "execution_count": 60,
   "id": "0f7efba0",
   "metadata": {},
   "outputs": [],
   "source": [
    "#or\n",
    "\n",
    "def list_xor(n, list1, list2):\n",
    "    if n not in list1 and n not in list2:\n",
    "        return False\n",
    "    if n in list1 and n in list2:\n",
    "        return False\n",
    "    return True"
   ]
  },
  {
   "cell_type": "code",
   "execution_count": 61,
   "id": "6afff4c7",
   "metadata": {},
   "outputs": [
    {
     "name": "stdout",
     "output_type": "stream",
     "text": [
      "True\n",
      "True\n",
      "False\n",
      "False\n"
     ]
    }
   ],
   "source": [
    "print(list_xor(1, [1, 2, 3], [4, 5, 6]))\n",
    "print(list_xor(1, [0, 2, 3], [1, 5, 6]))  \n",
    "print(list_xor(1, [1, 2, 3], [1, 5, 6]))  \n",
    "print(list_xor(1, [0, 0, 0], [4, 5, 6])) \n"
   ]
  },
  {
   "cell_type": "markdown",
   "id": "c3559742",
   "metadata": {},
   "source": [
    "# Counting parameters\n",
    "Define a function param_count that takes a variable number of parameters. The function should return the number of arguments it was called with.\n",
    "\n",
    "For example, param_count() should return 0, while param_count(2, 3, 4) should return 3."
   ]
  },
  {
   "cell_type": "code",
   "execution_count": 62,
   "id": "2dcc17ba",
   "metadata": {},
   "outputs": [],
   "source": [
    "def param_count(*parm):\n",
    "    return len(parm)"
   ]
  },
  {
   "cell_type": "code",
   "execution_count": 63,
   "id": "de978647",
   "metadata": {},
   "outputs": [
    {
     "data": {
      "text/plain": [
       "3"
      ]
     },
     "execution_count": 63,
     "metadata": {},
     "output_type": "execute_result"
    }
   ],
   "source": [
    "param_count(1,2,3)"
   ]
  },
  {
   "cell_type": "markdown",
   "id": "1150769d",
   "metadata": {},
   "source": [
    "# Thousands separator\n",
    "Write a function named format_number that takes a non-negative number as its only parameter.\n",
    "\n",
    "Your function should convert the number to a string and add commas as a thousands separator.\n",
    "\n",
    "For example, calling format_number(1000000) should return \"1,000,000\"."
   ]
  },
  {
   "cell_type": "code",
   "execution_count": 64,
   "id": "0a07e94d",
   "metadata": {},
   "outputs": [],
   "source": [
    "def format_number(number):\n",
    "    number_str = str(number)\n",
    "    reversed_str = number_str[::-1]  # Reverse the string\n",
    "    formatted_str = \"\"\n",
    "    for i in range(len(reversed_str)):\n",
    "        if i != 0 and i % 3 == 0:\n",
    "            formatted_str += \",\"\n",
    "        formatted_str += reversed_str[i]\n",
    "    formatted_number = formatted_str[::-1]  # Reverse the formatted string back\n",
    "    return formatted_number\n"
   ]
  },
  {
   "cell_type": "code",
   "execution_count": 65,
   "id": "3564e472",
   "metadata": {},
   "outputs": [],
   "source": [
    "def format_number(n):\n",
    "    result = \"\"\n",
    "    for i, digit in enumerate(reversed(str(n))):\n",
    "        if i != 0 and (i % 3) == 0:\n",
    "            result += \",\"\n",
    "        result += digit\n",
    "    return result[::-1]"
   ]
  },
  {
   "cell_type": "code",
   "execution_count": 66,
   "id": "74303c16",
   "metadata": {},
   "outputs": [],
   "source": [
    "def format_number(n):\n",
    "    return \"{:,}\".format(n)"
   ]
  },
  {
   "cell_type": "code",
   "execution_count": 67,
   "id": "d0eb9789",
   "metadata": {},
   "outputs": [
    {
     "data": {
      "text/plain": [
       "'10,000,000'"
      ]
     },
     "execution_count": 67,
     "metadata": {},
     "output_type": "execute_result"
    }
   ],
   "source": [
    "format_number(10000000)"
   ]
  },
  {
   "cell_type": "code",
   "execution_count": null,
   "id": "f02182e4",
   "metadata": {},
   "outputs": [],
   "source": []
  }
 ],
 "metadata": {
  "kernelspec": {
   "display_name": "Python 3 (ipykernel)",
   "language": "python",
   "name": "python3"
  },
  "language_info": {
   "codemirror_mode": {
    "name": "ipython",
    "version": 3
   },
   "file_extension": ".py",
   "mimetype": "text/x-python",
   "name": "python",
   "nbconvert_exporter": "python",
   "pygments_lexer": "ipython3",
   "version": "3.9.13"
  }
 },
 "nbformat": 4,
 "nbformat_minor": 5
}
